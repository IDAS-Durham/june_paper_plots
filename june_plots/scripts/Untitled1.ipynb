{
 "cells": [
  {
   "cell_type": "code",
   "execution_count": 1,
   "id": "34d10a23",
   "metadata": {},
   "outputs": [
    {
     "name": "stderr",
     "output_type": "stream",
     "text": [
      "No --data argument given - defaulting to:\n",
      "/Users/josephbullock/Documents/covidmodelling/JUNE-private/data\n",
      "No --configs argument given - defaulting to:\n",
      "/Users/josephbullock/Documents/covidmodelling/JUNE-private/june/configs\n"
     ]
    }
   ],
   "source": [
    "import numpy as np\n",
    "import pandas as pd\n",
    "import time\n",
    "from datetime import datetime, timedelta\n",
    "from collections import defaultdict\n",
    "from scipy.optimize import curve_fit\n",
    "import matplotlib.pyplot as plt\n",
    "\n",
    "from june import paths\n",
    "from june.policy import Policy, Policies"
   ]
  },
  {
   "cell_type": "code",
   "execution_count": 2,
   "id": "cb36a6a9",
   "metadata": {},
   "outputs": [],
   "source": [
    "policy_filename = (\n",
    "    paths.configs_path / \"defaults/policy/policy.yaml\"\n",
    ")"
   ]
  },
  {
   "cell_type": "code",
   "execution_count": 3,
   "id": "fae5a98e",
   "metadata": {},
   "outputs": [],
   "source": [
    "policies = Policies.from_file(policy_filename)"
   ]
  },
  {
   "cell_type": "code",
   "execution_count": 4,
   "id": "65716478",
   "metadata": {},
   "outputs": [],
   "source": [
    "active_interaction_policies = policies.interaction_policies.get_active(\n",
    "    date=datetime(2020,3,23)\n",
    ")"
   ]
  },
  {
   "cell_type": "code",
   "execution_count": 5,
   "id": "3e1fa46b",
   "metadata": {},
   "outputs": [],
   "source": [
    "groups = []\n",
    "for group in active_interaction_policies[0].beta_factors:\n",
    "    groups.append(group)"
   ]
  },
  {
   "cell_type": "code",
   "execution_count": 6,
   "id": "4daca733",
   "metadata": {},
   "outputs": [
    {
     "data": {
      "text/plain": [
       "['box',\n",
       " 'pub',\n",
       " 'grocery',\n",
       " 'cinema',\n",
       " 'city_transport',\n",
       " 'inter_city_transport',\n",
       " 'hospital',\n",
       " 'care_home',\n",
       " 'company',\n",
       " 'school',\n",
       " 'household',\n",
       " 'university',\n",
       " 'gym',\n",
       " 'household_visits',\n",
       " 'care_visits']"
      ]
     },
     "execution_count": 6,
     "metadata": {},
     "output_type": "execute_result"
    }
   ],
   "source": [
    "groups"
   ]
  },
  {
   "cell_type": "code",
   "execution_count": 7,
   "id": "d9b8fbe6",
   "metadata": {},
   "outputs": [],
   "source": [
    "no_days = 200\n",
    "begin_date = datetime(2020,3,1)"
   ]
  },
  {
   "cell_type": "code",
   "execution_count": 8,
   "id": "4b74f9d1",
   "metadata": {},
   "outputs": [
    {
     "data": {
      "text/plain": [
       "15"
      ]
     },
     "execution_count": 8,
     "metadata": {},
     "output_type": "execute_result"
    }
   ],
   "source": [
    "len(groups)"
   ]
  },
  {
   "cell_type": "code",
   "execution_count": 11,
   "id": "3321bf30",
   "metadata": {},
   "outputs": [],
   "source": [
    "dates = []\n",
    "group_betas = np.ones((200,len(groups)))\n",
    "for i in range(no_days):\n",
    "    date = begin_date + timedelta(i)\n",
    "    dates.append(date)\n",
    "    active_interaction_policies = policies.interaction_policies.get_active(\n",
    "            date=date\n",
    "        )\n",
    "    beta_reductions = defaultdict(lambda: 1.0)\n",
    "    for policy in active_interaction_policies:\n",
    "        beta_reductions_dict = policy.apply()\n",
    "        for group in beta_reductions_dict:\n",
    "            beta_reductions[group] *= beta_reductions_dict[group]\n",
    "    betas = []\n",
    "    for group in beta_reductions:\n",
    "        betas.append(beta_reductions[group])\n",
    "    if len(betas) == 0:\n",
    "        betas = np.ones(len(groups))\n",
    "    group_betas[i,:len(betas)] = betas"
   ]
  },
  {
   "cell_type": "code",
   "execution_count": 12,
   "id": "0b1a4970",
   "metadata": {},
   "outputs": [
    {
     "ename": "NameError",
     "evalue": "name 'self' is not defined",
     "output_type": "error",
     "traceback": [
      "\u001b[0;31m---------------------------------------------------------------------------\u001b[0m",
      "\u001b[0;31mNameError\u001b[0m                                 Traceback (most recent call last)",
      "\u001b[0;32m<ipython-input-12-2d7071745874>\u001b[0m in \u001b[0;36m<module>\u001b[0;34m\u001b[0m\n\u001b[1;32m     11\u001b[0m     \u001b[0;32melif\u001b[0m \u001b[0mgroups\u001b[0m\u001b[0;34m[\u001b[0m\u001b[0mi\u001b[0m\u001b[0;34m]\u001b[0m \u001b[0;34m==\u001b[0m \u001b[0;34m'care_home'\u001b[0m\u001b[0;34m:\u001b[0m\u001b[0;34m\u001b[0m\u001b[0;34m\u001b[0m\u001b[0m\n\u001b[1;32m     12\u001b[0m         \u001b[0max\u001b[0m\u001b[0;34m.\u001b[0m\u001b[0mplot\u001b[0m\u001b[0;34m(\u001b[0m\u001b[0mdates\u001b[0m\u001b[0;34m,\u001b[0m \u001b[0mgroup_betas\u001b[0m\u001b[0;34m[\u001b[0m\u001b[0;34m:\u001b[0m\u001b[0;34m,\u001b[0m\u001b[0mi\u001b[0m\u001b[0;34m]\u001b[0m\u001b[0;34m,\u001b[0m \u001b[0mlabel\u001b[0m \u001b[0;34m=\u001b[0m \u001b[0;34m'care home, company, university'\u001b[0m\u001b[0;34m,\u001b[0m \u001b[0malpha\u001b[0m\u001b[0;34m=\u001b[0m\u001b[0;36m0.8\u001b[0m\u001b[0;34m)\u001b[0m\u001b[0;34m\u001b[0m\u001b[0;34m\u001b[0m\u001b[0m\n\u001b[0;32m---> 13\u001b[0;31m \u001b[0max\u001b[0m\u001b[0;34m.\u001b[0m\u001b[0mvlines\u001b[0m\u001b[0;34m(\u001b[0m\u001b[0mdatetime\u001b[0m\u001b[0;34m(\u001b[0m\u001b[0;36m2020\u001b[0m\u001b[0;34m,\u001b[0m\u001b[0;36m3\u001b[0m\u001b[0;34m,\u001b[0m\u001b[0;36m16\u001b[0m\u001b[0;34m)\u001b[0m\u001b[0;34m,\u001b[0m\u001b[0;36m0.5\u001b[0m\u001b[0;34m,\u001b[0m\u001b[0;36m1.1\u001b[0m\u001b[0;34m,\u001b[0m\u001b[0mlinestyle\u001b[0m\u001b[0;34m=\u001b[0m\u001b[0;34m'--'\u001b[0m\u001b[0;34m,\u001b[0m \u001b[0mcolor\u001b[0m\u001b[0;34m=\u001b[0m\u001b[0mself\u001b[0m\u001b[0;34m.\u001b[0m\u001b[0mcolors\u001b[0m\u001b[0;34m[\u001b[0m\u001b[0;34m'16_March'\u001b[0m\u001b[0;34m]\u001b[0m\u001b[0;34m,\u001b[0m \u001b[0mlabel\u001b[0m\u001b[0;34m=\u001b[0m\u001b[0;34m'16th March'\u001b[0m\u001b[0;34m)\u001b[0m\u001b[0;34m\u001b[0m\u001b[0;34m\u001b[0m\u001b[0m\n\u001b[0m\u001b[1;32m     14\u001b[0m \u001b[0max\u001b[0m\u001b[0;34m.\u001b[0m\u001b[0mvlines\u001b[0m\u001b[0;34m(\u001b[0m\u001b[0mdatetime\u001b[0m\u001b[0;34m(\u001b[0m\u001b[0;36m2020\u001b[0m\u001b[0;34m,\u001b[0m\u001b[0;36m3\u001b[0m\u001b[0;34m,\u001b[0m\u001b[0;36m23\u001b[0m\u001b[0;34m)\u001b[0m\u001b[0;34m,\u001b[0m\u001b[0;36m0.5\u001b[0m\u001b[0;34m,\u001b[0m\u001b[0;36m1.1\u001b[0m\u001b[0;34m,\u001b[0m\u001b[0mlinestyle\u001b[0m\u001b[0;34m=\u001b[0m\u001b[0;34m'--'\u001b[0m\u001b[0;34m,\u001b[0m \u001b[0mcolor\u001b[0m\u001b[0;34m=\u001b[0m\u001b[0mself\u001b[0m\u001b[0;34m.\u001b[0m\u001b[0mcolors\u001b[0m\u001b[0;34m[\u001b[0m\u001b[0;34m'23_March'\u001b[0m\u001b[0;34m]\u001b[0m\u001b[0;34m,\u001b[0m \u001b[0mlabel\u001b[0m\u001b[0;34m=\u001b[0m\u001b[0;34m'23rd March'\u001b[0m\u001b[0;34m)\u001b[0m\u001b[0;34m\u001b[0m\u001b[0;34m\u001b[0m\u001b[0m\n\u001b[1;32m     15\u001b[0m \u001b[0max\u001b[0m\u001b[0;34m.\u001b[0m\u001b[0mvlines\u001b[0m\u001b[0;34m(\u001b[0m\u001b[0mdatetime\u001b[0m\u001b[0;34m(\u001b[0m\u001b[0;36m2020\u001b[0m\u001b[0;34m,\u001b[0m\u001b[0;36m7\u001b[0m\u001b[0;34m,\u001b[0m\u001b[0;36m4\u001b[0m\u001b[0;34m)\u001b[0m\u001b[0;34m,\u001b[0m\u001b[0;36m0.5\u001b[0m\u001b[0;34m,\u001b[0m\u001b[0;36m1.1\u001b[0m\u001b[0;34m,\u001b[0m\u001b[0mlinestyle\u001b[0m\u001b[0;34m=\u001b[0m\u001b[0;34m'--'\u001b[0m\u001b[0;34m,\u001b[0m \u001b[0mcolor\u001b[0m\u001b[0;34m=\u001b[0m\u001b[0mself\u001b[0m\u001b[0;34m.\u001b[0m\u001b[0mcolors\u001b[0m\u001b[0;34m[\u001b[0m\u001b[0;34m'4_July'\u001b[0m\u001b[0;34m]\u001b[0m\u001b[0;34m,\u001b[0m \u001b[0mlabel\u001b[0m\u001b[0;34m=\u001b[0m\u001b[0;34m'4th July'\u001b[0m\u001b[0;34m)\u001b[0m\u001b[0;34m\u001b[0m\u001b[0;34m\u001b[0m\u001b[0m\n",
      "\u001b[0;31mNameError\u001b[0m: name 'self' is not defined"
     ]
    },
    {
     "data": {
      "image/png": "[encoded data removed]",
      "text/plain": [
       "<Figure size 360x216 with 1 Axes>"
      ]
     },
     "metadata": {
      "needs_background": "light"
     },
     "output_type": "display_data"
    }
   ],
   "source": [
    "f, ax = plt.subplots(figsize=(5,3))\n",
    "for i in range(len(groups)):\n",
    "    if groups[i] == 'pub':\n",
    "        ax.plot(dates, group_betas[:,i], label = 'pub, cinema, school', alpha=0.8, color='blue')\n",
    "    elif groups[i] == 'grocery':\n",
    "        ax.plot(dates, group_betas[:,i], label = 'grocery', alpha=0.9, color='green')\n",
    "    elif groups[i] == 'household':\n",
    "        ax.plot(dates, group_betas[:,i], label = 'household, hospital', alpha=0.8, color='maroon')\n",
    "    elif groups[i] == 'city_transport':\n",
    "        ax.plot(dates, group_betas[:,i], label = 'city transport, inter city transport', alpha=0.8, color='purple')\n",
    "    elif groups[i] == 'care_home':\n",
    "        ax.plot(dates, group_betas[:,i], label = 'care home, company, university', alpha=0.8)\n",
    "ax.vlines(datetime(2020,3,16),0.5,1.1,linestyle='--', color=self.colors['16_March'], label='16th March')\n",
    "ax.vlines(datetime(2020,3,23),0.5,1.1,linestyle='--', color=self.colors['23_March'], label='23rd March')\n",
    "ax.vlines(datetime(2020,7,4),0.5,1.1,linestyle='--', color=self.colors['4_July'], label='4th July')\n",
    "ax.set_ylabel('Beta fraction')\n",
    "ax.set_xlabel('Date')\n",
    "ax.legend(bbox_to_anchor=(1.05, 1))\n",
    "plt.xticks(rotation=45)"
   ]
  },
  {
   "cell_type": "code",
   "execution_count": null,
   "id": "11a91736",
   "metadata": {},
   "outputs": [],
   "source": []
  }
 ],
 "metadata": {
  "kernelspec": {
   "display_name": "covidmodelling-private",
   "language": "python",
   "name": "covidmodelling-private"
  },
  "language_info": {
   "codemirror_mode": {
    "name": "ipython",
    "version": 3
   },
   "file_extension": ".py",
   "mimetype": "text/x-python",
   "name": "python",
   "nbconvert_exporter": "python",
   "pygments_lexer": "ipython3",
   "version": "3.7.6"
  }
 },
 "nbformat": 4,
 "nbformat_minor": 5
}
